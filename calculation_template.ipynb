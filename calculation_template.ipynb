{
 "cells": [
  {
   "cell_type": "code",
   "execution_count": null,
   "metadata": {
    "collapsed": true
   },
   "outputs": [],
   "source": [
    "%matplotlib inline\n",
    "import os.path\n",
    "import numpy as np\n",
    "import pandas as pd\n",
    "import matplotlib.pyplot as plt\n",
    "import seaborn as sns\n",
    "\n",
    "sns.set_style('darkgrid')"
   ]
  },
  {
   "cell_type": "markdown",
   "metadata": {},
   "source": [
    "# MPS Safety Limit Calculations\n",
    "\n",
    "The LCLS-II MPS system needs to protect components against two categories of damage; instant single shot damage from a single pulse, and ablation via high repetition rate hits. Each **individual** state of each **unique** device along the beamline will have different limitations for thes values based on the material and position along the beamline. \n",
    "\n",
    "The purpose of this notebook is to both calculate and document the process in which component information is converted to MPS requirements that are enforced on both the beamline attenuation and the repetition rate of the beam."
   ]
  },
  {
   "cell_type": "markdown",
   "metadata": {},
   "source": [
    "## Specified Requirements\n",
    "\n",
    "The mechanical engineer responsible for the system is also responsible for communicating MPS requirements to the PCDS team. We require two major pieces of information; a table of **maximum single pulse energy** the device can withstand at different photon energies, and the maximum integrated power acceptable for the device. \n",
    "\n",
    "The mechanical engineer is welcome to put safety thresholds here in order to reflect the cost of damaging a component. For instance, if a vendor supplied specification claims a device can absorb 10 Watts without issue, but replacing the component would cost days of beamtime. It is at this stage that our table would reflect a large of \"safety margin\" and allow 8 Watts of power."
   ]
  },
  {
   "cell_type": "code",
   "execution_count": null,
   "metadata": {
    "collapsed": true
   },
   "outputs": [],
   "source": [
    "# Load the requirements files via CSV\n",
    "max_reqs = pd.read_csv(req_file, index_col=0)\n",
    "max_pulse = pd.read_csv('beam.csv', index_col=0)\n",
    "state_name = max_reqs.index[0]"
   ]
  },
  {
   "cell_type": "code",
   "execution_count": null,
   "metadata": {
    "collapsed": true
   },
   "outputs": [],
   "source": [
    "# Create empty versions of the final tables we hope to create\n",
    "min_attenuation = pd.DataFrame(0., index=max_pulse.index, columns=max_pulse.columns)\n",
    "max_pulse_rate = pd.DataFrame(0., index=max_pulse.index, columns=max_pulse.columns)"
   ]
  },
  {
   "cell_type": "code",
   "execution_count": null,
   "metadata": {},
   "outputs": [],
   "source": [
    "max_reqs"
   ]
  },
  {
   "cell_type": "code",
   "execution_count": null,
   "metadata": {
    "scrolled": true
   },
   "outputs": [],
   "source": [
    "fig, ax = plt.subplots()\n",
    "energy = max_reqs.drop('Power', axis=1)\n",
    "ax.plot([float(idx) for idx in energy.columns],\n",
    "        energy.loc[state_name])\n",
    "labels = ax.set(title='Allowable Single Pulse Energy',\n",
    "                ylabel='Pulse Energy (mJ)',\n",
    "                xlabel='Photon Energy (keV)')\n"
   ]
  },
  {
   "cell_type": "markdown",
   "metadata": {},
   "source": [
    "## Beam Power Assumptions\n",
    "\n",
    "Without reliable enough diagnostics, the MPS system has to make assumptions about how powerful the beam can be in certain Accelerator configurations. The table below displays a look-up table filled via theoretical calculation. The two inputs to the table are:\n",
    "\n",
    "* ** Bunch Charge**: The electron bunch charge travelling through the accelerator (mJ)\n",
    "* ** Photon Energy**: The energy of an individudal photon produced by the undulators (keV)"
   ]
  },
  {
   "cell_type": "code",
   "execution_count": null,
   "metadata": {},
   "outputs": [],
   "source": [
    "max_pulse"
   ]
  },
  {
   "cell_type": "markdown",
   "metadata": {},
   "source": [
    "## Calculations"
   ]
  },
  {
   "cell_type": "markdown",
   "metadata": {},
   "source": [
    "### Required Attenuation\n",
    "In order to mitigate single shot damage to components, the proper amount of attenuation must be inserted in the beam. This value is determined by a simple ratio of the maximum pulse energy the device can withstand to that predicted at the specific combination of bunch charge and wavelength. This gives us maximum allowable transmission which is simply the inverse of the required attenuation\n",
    "\n",
    "$$Minimum\\,Attenuation = 1 - \\frac{Maximum\\,Single\\,Shot\\,Allowed}{Predicted\\,Pulse\\,Energy}$$"
   ]
  },
  {
   "cell_type": "code",
   "execution_count": null,
   "metadata": {},
   "outputs": [],
   "source": [
    "# Determine the required attenuation at every combination of bunch charge and \n",
    "for pulse_energy in max_pulse.columns:\n",
    "    # Allowed transmission is the maximum allowed pulse energy / predicted amount of pulse energy\n",
    "    min_attenuation[pulse_energy] = (max_reqs.loc[state_name][pulse_energy]/\n",
    "                                     (max_pulse[pulse_energy]/1000.)) # Convert to kJ\n",
    "\n",
    "# No such thing as allowing more than 100% transmission\n",
    "min_attenuation[min_attenuation > 1.] = 1.\n",
    "# Modify precision\n",
    "min_attenuation = min_attenuation.round(2)\n",
    "# 1 - max_transmission = minimum_attenuation\n",
    "min_attenuation = 1 - min_attenuation\n",
    "min_attenuation"
   ]
  },
  {
   "cell_type": "markdown",
   "metadata": {},
   "source": [
    "### Maximum Repetition Rate\n",
    "\n",
    "We now know the maximum amount of energy we will be letting through on each shot, but in order to prevent damage from multiple shots we need to limit the repetition rate of the accelerator. The power the component can withstand is provided to us, dividing this by the amount of power we allow per pulse gives us an upper limit that we will allow the repetition rate to be.\n",
    "\n",
    "$$ Allowable\\,Repetition\\,Rate = \\frac{Maximum Power}{Maximum\\,Pulse\\,Energy\\,After\\,Attenuation}$$"
   ]
  },
  {
   "cell_type": "code",
   "execution_count": null,
   "metadata": {
    "scrolled": true
   },
   "outputs": [],
   "source": [
    "for pulse_energy in max_pulse.columns:\n",
    "    max_pulse_rate[pulse_energy] = (max_reqs.loc[state_name]['Power']/\n",
    "                                    (max_pulse[pulse_energy]/1000000.) / 1 - min_attenuation[pulse_energy])\n",
    "max_pulse_rate = max_pulse_rate.round(0)\n",
    "max_pulse_rate"
   ]
  },
  {
   "cell_type": "markdown",
   "metadata": {},
   "source": [
    "## Store Requirements\n",
    "These requirements are used by the MPS system to protect devices during beamtime. They need to be output to a format readable by a Beckhoff PLC system"
   ]
  },
  {
   "cell_type": "code",
   "execution_count": null,
   "metadata": {
    "collapsed": true
   },
   "outputs": [],
   "source": [
    "filename_prefix = f'{state_name}'.replace(' ','_')\n",
    "min_attenuation.to_csv(filename_prefix + '_min_attenuation.csv')\n",
    "max_pulse_rate.to_csv(filename_prefix + '_max_rep_rate.csv')"
   ]
  },
  {
   "cell_type": "code",
   "execution_count": null,
   "metadata": {
    "collapsed": true
   },
   "outputs": [],
   "source": []
  }
 ],
 "metadata": {
  "celltoolbar": "Tags",
  "kernelspec": {
   "display_name": "Python 3",
   "language": "python",
   "name": "python3"
  },
  "language_info": {
   "codemirror_mode": {
    "name": "ipython",
    "version": 3
   },
   "file_extension": ".py",
   "mimetype": "text/x-python",
   "name": "python",
   "nbconvert_exporter": "python",
   "pygments_lexer": "ipython3",
   "version": "3.6.2"
  }
 },
 "nbformat": 4,
 "nbformat_minor": 2
}
